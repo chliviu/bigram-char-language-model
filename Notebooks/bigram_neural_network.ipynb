{
 "cells": [
  {
   "cell_type": "code",
   "execution_count": 1,
   "id": "8a533b09-69e3-445f-ac01-8b43929f82d4",
   "metadata": {},
   "outputs": [],
   "source": [
    "import torch\n",
    "import matplotlib.pyplot as plt\n",
    "%matplotlib inline"
   ]
  },
  {
   "cell_type": "code",
   "execution_count": 2,
   "id": "02cb4e02-0352-4c79-b5ed-99eeadb4d92b",
   "metadata": {},
   "outputs": [],
   "source": [
    "words = open(\"rocities.txt\", \"r\").read().splitlines()"
   ]
  },
  {
   "cell_type": "code",
   "execution_count": 3,
   "id": "4e6c3114-61f0-4c6b-bd71-a699c27c4a14",
   "metadata": {},
   "outputs": [],
   "source": [
    "chars = sorted(list(set(''.join(words))))\n",
    "count_chars = len(chars)\n",
    "stoi = {s: i + 1 for i,s in enumerate(chars)}\n",
    "stoi['*'] = 0\n",
    "itos = {i: s for s,i in stoi.items()}\n",
    "count_all_chars = len(stoi.keys())"
   ]
  },
  {
   "cell_type": "code",
   "execution_count": 4,
   "id": "80b2ab67-df41-4171-890e-350bc83761f9",
   "metadata": {},
   "outputs": [],
   "source": [
    "# creating the training set"
   ]
  },
  {
   "cell_type": "code",
   "execution_count": 5,
   "id": "5af24f8b-adaa-44ac-842e-01a2e28bad04",
   "metadata": {},
   "outputs": [],
   "source": [
    "inputs = []\n",
    "targets = []"
   ]
  },
  {
   "cell_type": "code",
   "execution_count": 6,
   "id": "ca54323e-9c70-42fb-b955-87f1e962f480",
   "metadata": {},
   "outputs": [],
   "source": [
    "for word in words[:1]:\n",
    "    word = ['*'] + list(word) + ['*']\n",
    "    for ch1, ch2 in zip(word,word[1:]):\n",
    "        r = stoi[ch1]\n",
    "        c = stoi[ch2]\n",
    "        inputs.append(r)\n",
    "        targets.append(c)"
   ]
  },
  {
   "cell_type": "code",
   "execution_count": 7,
   "id": "b8366ac9-15e5-4b22-9fca-0fc1503b22f1",
   "metadata": {},
   "outputs": [
    {
     "data": {
      "text/plain": [
       "(tensor([ 0,  4,  1, 10, 11,  9, 11, 19,  8, 23, 15, 11]),\n",
       " tensor([ 4,  1, 10, 11,  9, 11, 19,  8, 23, 15, 11,  0]))"
      ]
     },
     "execution_count": 7,
     "metadata": {},
     "output_type": "execute_result"
    }
   ],
   "source": [
    "inputs = torch.tensor(inputs)\n",
    "targets = torch.tensor(targets)\n",
    "inputs, targets"
   ]
  },
  {
   "cell_type": "code",
   "execution_count": 19,
   "id": "3de77f9d-9ab4-4f0f-bb8f-63fb8eb4f5f3",
   "metadata": {},
   "outputs": [
    {
     "name": "stdout",
     "output_type": "stream",
     "text": [
      "torch.Size([12, 31])\n"
     ]
    }
   ],
   "source": [
    "import torch.nn.functional as F\n",
    "# one-hot encode the int tensors\n",
    "xenc = F.one_hot(inputs, num_classes=count_all_chars)\n",
    "print(xenc.shape)"
   ]
  },
  {
   "cell_type": "code",
   "execution_count": 13,
   "id": "aee09fed-8a2e-4b7d-b649-bcd339b8b02f",
   "metadata": {},
   "outputs": [
    {
     "data": {
      "text/plain": [
       "<matplotlib.image.AxesImage at 0x7f832ceab810>"
      ]
     },
     "execution_count": 13,
     "metadata": {},
     "output_type": "execute_result"
    },
    {
     "data": {
      "image/png": "[encoded data removed]",
      "text/plain": [
       "<Figure size 640x480 with 1 Axes>"
      ]
     },
     "metadata": {},
     "output_type": "display_data"
    }
   ],
   "source": [
    "plt.imshow(xenc)"
   ]
  },
  {
   "cell_type": "code",
   "execution_count": 20,
   "id": "efc3529f-8b1d-435d-bd26-cac5e3cc0519",
   "metadata": {},
   "outputs": [
    {
     "name": "stdout",
     "output_type": "stream",
     "text": [
      "torch.int64\n",
      "torch.float32\n"
     ]
    }
   ],
   "source": [
    "print(xenc.dtype)\n",
    "# for nn we need float\n",
    "xenc = xenc.float()\n",
    "print(xenc.dtype)"
   ]
  },
  {
   "cell_type": "code",
   "execution_count": 23,
   "id": "802e22cc-ea75-483f-b031-92df799da062",
   "metadata": {},
   "outputs": [
    {
     "data": {
      "text/plain": [
       "tensor([[ 1.1066e+00],\n",
       "        [ 1.4413e+00],\n",
       "        [ 6.4801e-01],\n",
       "        [-1.8258e+00],\n",
       "        [ 6.7701e-01],\n",
       "        [-2.6204e-01],\n",
       "        [ 5.7082e-01],\n",
       "        [-1.1707e+00],\n",
       "        [ 1.5221e+00],\n",
       "        [-7.4402e-01],\n",
       "        [ 1.1818e+00],\n",
       "        [-5.3148e-01],\n",
       "        [ 9.8551e-01],\n",
       "        [ 6.1625e-01],\n",
       "        [ 6.3127e-01],\n",
       "        [-8.1725e-01],\n",
       "        [ 2.0809e+00],\n",
       "        [ 1.5024e+00],\n",
       "        [-3.7580e-01],\n",
       "        [-2.3924e-01],\n",
       "        [-1.4660e+00],\n",
       "        [ 2.2441e+00],\n",
       "        [ 7.7324e-01],\n",
       "        [-1.1087e+00],\n",
       "        [ 9.4468e-02],\n",
       "        [-4.8750e-01],\n",
       "        [ 9.4507e-01],\n",
       "        [ 3.6849e-01],\n",
       "        [-1.1427e+00],\n",
       "        [-1.5951e-03],\n",
       "        [-6.2787e-01]])"
      ]
     },
     "execution_count": 23,
     "metadata": {},
     "output_type": "execute_result"
    }
   ],
   "source": [
    "W = torch.randn(size=(count_all_chars, 1))\n",
    "W"
   ]
  },
  {
   "cell_type": "code",
   "execution_count": 25,
   "id": "b9307197-48de-4851-bc7c-2f01718148e7",
   "metadata": {},
   "outputs": [
    {
     "data": {
      "text/plain": [
       "tensor([[ 1.1066],\n",
       "        [ 0.6770],\n",
       "        [ 1.4413],\n",
       "        [ 1.1818],\n",
       "        [-0.5315],\n",
       "        [-0.7440],\n",
       "        [-0.5315],\n",
       "        [-0.2392],\n",
       "        [ 1.5221],\n",
       "        [-1.1087],\n",
       "        [-0.8172],\n",
       "        [-0.5315]])"
      ]
     },
     "execution_count": 25,
     "metadata": {},
     "output_type": "execute_result"
    }
   ],
   "source": [
    "xenc @ W"
   ]
  },
  {
   "cell_type": "code",
   "execution_count": 26,
   "id": "4d00c3ce-4427-47df-a82a-0020583b2d6c",
   "metadata": {},
   "outputs": [
    {
     "data": {
      "text/plain": [
       "tensor([[ 0.6095,  0.1643, -1.8273, -0.5250,  0.8390, -0.3782, -0.0610, -0.4065,\n",
       "         -0.0264, -0.0643,  2.4813, -1.8960, -0.1972, -0.1574, -0.4759, -2.5612,\n",
       "         -0.1249, -0.0748,  0.3756,  0.4354,  1.1458, -0.3769,  1.0774,  1.2276,\n",
       "          0.5052,  3.3019,  1.2592,  1.0743,  1.0259, -1.0161,  0.2411],\n",
       "        [ 0.1571,  0.1472, -0.2804,  0.5836,  0.2204,  0.2379, -0.8709, -0.8788,\n",
       "          1.0630,  0.2674,  1.2172,  0.3791,  0.9386, -1.3777, -0.5507, -0.0157,\n",
       "          2.3314,  0.5354, -0.3529, -0.4326,  0.4138, -2.3835, -0.9140,  0.7080,\n",
       "         -0.0056,  0.5818,  0.4125, -0.1404,  0.4093,  0.1148,  0.9578],\n",
       "        [ 1.2360,  0.7968, -0.1288, -0.8328, -0.7874,  0.1000, -0.5826,  0.9550,\n",
       "         -0.1100, -0.4791, -1.4083, -0.6750,  0.0875,  0.0784,  1.5426, -0.6579,\n",
       "         -0.4705,  1.4175,  2.0805, -0.0568,  0.2056,  0.2990, -0.2630, -0.2667,\n",
       "          0.7125,  1.5019,  0.1431, -0.2221,  0.2966, -0.3424,  0.4939],\n",
       "        [-1.3549, -0.0927,  1.6302, -0.4570, -0.1868,  0.9748, -0.8843, -0.8619,\n",
       "          1.8203, -0.0739,  0.8499, -0.1533, -0.3255,  0.5139,  1.3245, -0.7581,\n",
       "         -0.1818,  0.2633, -0.2912, -1.8892,  0.1338, -0.0924,  0.5257,  1.0449,\n",
       "          0.3499, -1.3403,  2.6264, -1.4408,  1.1180, -1.9066,  0.6349],\n",
       "        [-1.7958,  0.6278, -0.0492, -1.1913,  0.4132,  1.3806, -0.5635,  1.4624,\n",
       "          1.1730, -0.4780,  0.5306,  0.4883, -0.3838, -0.1929,  1.1448, -0.2728,\n",
       "         -1.1694,  0.2635, -1.7780,  0.6237, -0.4256,  0.2516,  1.6745,  0.4712,\n",
       "          0.3638, -1.5403, -1.3137,  1.6706, -0.5250, -0.5484, -0.4592],\n",
       "        [ 0.1989, -0.2179, -1.1001,  0.0262, -0.6222, -0.3777,  1.2061,  0.1970,\n",
       "         -1.6424,  0.3078, -0.7405,  0.7877,  0.2515,  1.4093,  1.3754,  0.0975,\n",
       "         -0.2057, -0.6152, -0.8954,  0.5562, -1.0459,  0.9928, -1.2558,  0.6154,\n",
       "          1.3381,  0.3618, -1.4083, -1.2376, -0.3345,  0.3556,  0.7814],\n",
       "        [-1.7958,  0.6278, -0.0492, -1.1913,  0.4132,  1.3806, -0.5635,  1.4624,\n",
       "          1.1730, -0.4780,  0.5306,  0.4883, -0.3838, -0.1929,  1.1448, -0.2728,\n",
       "         -1.1694,  0.2635, -1.7780,  0.6237, -0.4256,  0.2516,  1.6745,  0.4712,\n",
       "          0.3638, -1.5403, -1.3137,  1.6706, -0.5250, -0.5484, -0.4592],\n",
       "        [ 0.9790, -1.0963,  0.5794, -0.3968,  0.4571, -0.0884, -0.6779,  0.5581,\n",
       "         -1.1612, -1.9924, -0.5735, -0.6462, -1.2757, -0.1253, -0.3965, -0.9482,\n",
       "          0.2950, -1.2000,  0.8262,  0.5236, -0.2933,  0.6287, -0.7374,  0.4422,\n",
       "          0.7591, -0.3474,  1.2784,  0.0067,  1.5467, -0.0866,  0.9362],\n",
       "        [ 0.0269,  0.1022, -0.7947, -0.6146, -1.1997,  0.3742, -1.6561,  2.3196,\n",
       "          0.5516, -2.2284, -1.6814, -0.8132,  0.4047,  0.6845,  1.0670,  0.4784,\n",
       "          0.5460,  0.7117,  0.2047,  0.2902, -1.8324, -0.6269, -1.8482, -0.9771,\n",
       "          0.3754, -1.1437, -1.1088, -0.6949, -1.7978,  0.0082,  0.5525],\n",
       "        [-1.1971,  1.3766, -0.0847, -0.6400,  1.5530,  0.4680, -1.4416, -2.4799,\n",
       "         -0.0166, -0.6653,  1.5509, -0.9279, -0.7993, -0.9051,  1.0243,  0.2931,\n",
       "          1.9640,  0.3102,  0.4310,  1.0898, -0.7574,  1.5001,  0.3763, -1.5156,\n",
       "         -1.3327,  1.1447, -1.3659,  0.7195,  0.1197, -0.6281,  1.2422],\n",
       "        [-0.3662, -0.0622, -0.2391,  0.5497,  0.5774,  1.3526,  0.6192, -0.2755,\n",
       "         -0.9249,  0.7566,  1.2143, -1.0612, -1.1554,  0.8977, -0.0897, -1.2775,\n",
       "          0.6006,  0.9047,  1.1827, -0.9602,  0.8361,  0.6826, -0.7786,  0.6744,\n",
       "         -1.0620,  0.8390,  2.9566,  0.0744, -1.2340,  0.1974,  1.0008],\n",
       "        [-1.7958,  0.6278, -0.0492, -1.1913,  0.4132,  1.3806, -0.5635,  1.4624,\n",
       "          1.1730, -0.4780,  0.5306,  0.4883, -0.3838, -0.1929,  1.1448, -0.2728,\n",
       "         -1.1694,  0.2635, -1.7780,  0.6237, -0.4256,  0.2516,  1.6745,  0.4712,\n",
       "          0.3638, -1.5403, -1.3137,  1.6706, -0.5250, -0.5484, -0.4592]])"
      ]
     },
     "execution_count": 26,
     "metadata": {},
     "output_type": "execute_result"
    }
   ],
   "source": [
    "W = torch.randn(size=(count_all_chars, count_all_chars))\n",
    "xenc @ W"
   ]
  },
  {
   "cell_type": "code",
   "execution_count": 27,
   "id": "27da8c23-1a62-4331-88eb-ecac025558f5",
   "metadata": {},
   "outputs": [
    {
     "data": {
      "text/plain": [
       "tensor([[0.0232, 0.0148, 0.0020, 0.0074, 0.0291, 0.0086, 0.0118, 0.0084, 0.0123,\n",
       "         0.0118, 0.1505, 0.0019, 0.0103, 0.0108, 0.0078, 0.0010, 0.0111, 0.0117,\n",
       "         0.0183, 0.0195, 0.0396, 0.0086, 0.0370, 0.0430, 0.0209, 0.3419, 0.0443,\n",
       "         0.0368, 0.0351, 0.0046, 0.0160],\n",
       "        [0.0237, 0.0234, 0.0153, 0.0363, 0.0252, 0.0257, 0.0085, 0.0084, 0.0586,\n",
       "         0.0264, 0.0683, 0.0296, 0.0517, 0.0051, 0.0117, 0.0199, 0.2083, 0.0346,\n",
       "         0.0142, 0.0131, 0.0306, 0.0019, 0.0081, 0.0411, 0.0201, 0.0362, 0.0306,\n",
       "         0.0176, 0.0305, 0.0227, 0.0527],\n",
       "        [0.0671, 0.0432, 0.0171, 0.0085, 0.0089, 0.0215, 0.0109, 0.0506, 0.0175,\n",
       "         0.0121, 0.0048, 0.0099, 0.0213, 0.0211, 0.0911, 0.0101, 0.0122, 0.0804,\n",
       "         0.1560, 0.0184, 0.0239, 0.0263, 0.0150, 0.0149, 0.0397, 0.0875, 0.0225,\n",
       "         0.0156, 0.0262, 0.0138, 0.0319],\n",
       "        [0.0044, 0.0156, 0.0871, 0.0108, 0.0142, 0.0452, 0.0070, 0.0072, 0.1053,\n",
       "         0.0158, 0.0399, 0.0146, 0.0123, 0.0285, 0.0642, 0.0080, 0.0142, 0.0222,\n",
       "         0.0128, 0.0026, 0.0195, 0.0156, 0.0289, 0.0485, 0.0242, 0.0045, 0.2359,\n",
       "         0.0040, 0.0522, 0.0025, 0.0322],\n",
       "        [0.0035, 0.0392, 0.0199, 0.0064, 0.0316, 0.0832, 0.0119, 0.0903, 0.0676,\n",
       "         0.0130, 0.0355, 0.0341, 0.0142, 0.0172, 0.0657, 0.0159, 0.0065, 0.0272,\n",
       "         0.0035, 0.0390, 0.0137, 0.0269, 0.1116, 0.0335, 0.0301, 0.0045, 0.0056,\n",
       "         0.1111, 0.0124, 0.0121, 0.0132],\n",
       "        [0.0286, 0.0189, 0.0078, 0.0241, 0.0126, 0.0161, 0.0784, 0.0286, 0.0045,\n",
       "         0.0319, 0.0112, 0.0516, 0.0302, 0.0960, 0.0928, 0.0259, 0.0191, 0.0127,\n",
       "         0.0096, 0.0409, 0.0082, 0.0633, 0.0067, 0.0434, 0.0894, 0.0337, 0.0057,\n",
       "         0.0068, 0.0168, 0.0335, 0.0512],\n",
       "        [0.0035, 0.0392, 0.0199, 0.0064, 0.0316, 0.0832, 0.0119, 0.0903, 0.0676,\n",
       "         0.0130, 0.0355, 0.0341, 0.0142, 0.0172, 0.0657, 0.0159, 0.0065, 0.0272,\n",
       "         0.0035, 0.0390, 0.0137, 0.0269, 0.1116, 0.0335, 0.0301, 0.0045, 0.0056,\n",
       "         0.1111, 0.0124, 0.0121, 0.0132],\n",
       "        [0.0668, 0.0084, 0.0448, 0.0169, 0.0396, 0.0230, 0.0127, 0.0439, 0.0079,\n",
       "         0.0034, 0.0141, 0.0132, 0.0070, 0.0221, 0.0169, 0.0097, 0.0337, 0.0076,\n",
       "         0.0573, 0.0424, 0.0187, 0.0471, 0.0120, 0.0391, 0.0536, 0.0177, 0.0901,\n",
       "         0.0253, 0.1179, 0.0230, 0.0640],\n",
       "        [0.0265, 0.0286, 0.0116, 0.0139, 0.0078, 0.0375, 0.0049, 0.2622, 0.0448,\n",
       "         0.0028, 0.0048, 0.0114, 0.0386, 0.0511, 0.0749, 0.0416, 0.0445, 0.0525,\n",
       "         0.0316, 0.0345, 0.0041, 0.0138, 0.0041, 0.0097, 0.0375, 0.0082, 0.0085,\n",
       "         0.0129, 0.0043, 0.0260, 0.0448],\n",
       "        [0.0056, 0.0728, 0.0169, 0.0097, 0.0869, 0.0293, 0.0043, 0.0015, 0.0181,\n",
       "         0.0094, 0.0867, 0.0073, 0.0083, 0.0074, 0.0512, 0.0246, 0.1310, 0.0251,\n",
       "         0.0283, 0.0547, 0.0086, 0.0824, 0.0268, 0.0040, 0.0048, 0.0577, 0.0047,\n",
       "         0.0377, 0.0207, 0.0098, 0.0636],\n",
       "        [0.0108, 0.0146, 0.0122, 0.0269, 0.0276, 0.0600, 0.0288, 0.0118, 0.0062,\n",
       "         0.0331, 0.0522, 0.0054, 0.0049, 0.0381, 0.0142, 0.0043, 0.0283, 0.0383,\n",
       "         0.0506, 0.0059, 0.0358, 0.0307, 0.0071, 0.0304, 0.0054, 0.0359, 0.2983,\n",
       "         0.0167, 0.0045, 0.0189, 0.0422],\n",
       "        [0.0035, 0.0392, 0.0199, 0.0064, 0.0316, 0.0832, 0.0119, 0.0903, 0.0676,\n",
       "         0.0130, 0.0355, 0.0341, 0.0142, 0.0172, 0.0657, 0.0159, 0.0065, 0.0272,\n",
       "         0.0035, 0.0390, 0.0137, 0.0269, 0.1116, 0.0335, 0.0301, 0.0045, 0.0056,\n",
       "         0.1111, 0.0124, 0.0121, 0.0132]])"
      ]
     },
     "execution_count": 27,
     "metadata": {},
     "output_type": "execute_result"
    }
   ],
   "source": [
    "logits = xenc @ W  # log-counts\n",
    "counts = logits.exp()  # equivalent to N\n",
    "probs = counts / counts.sum(1, keepdims=True)\n",
    "probs"
   ]
  },
  {
   "cell_type": "code",
   "execution_count": 28,
   "id": "838f5828-b4a2-4595-a647-47a04de31db0",
   "metadata": {},
   "outputs": [
    {
     "data": {
      "text/plain": [
       "tensor(1.0000)"
      ]
     },
     "execution_count": 28,
     "metadata": {},
     "output_type": "execute_result"
    }
   ],
   "source": [
    "probs[0].sum()"
   ]
  },
  {
   "cell_type": "code",
   "execution_count": 31,
   "id": "243e3cc1-71d1-4d11-a76e-945f4bc11eb4",
   "metadata": {},
   "outputs": [
    {
     "data": {
      "text/plain": [
       "torch.Size([12, 31])"
      ]
     },
     "execution_count": 31,
     "metadata": {},
     "output_type": "execute_result"
    }
   ],
   "source": [
    "probs.shape"
   ]
  }
 ],
 "metadata": {
  "kernelspec": {
   "display_name": "Python 3 (ipykernel)",
   "language": "python",
   "name": "python3"
  },
  "language_info": {
   "codemirror_mode": {
    "name": "ipython",
    "version": 3
   },
   "file_extension": ".py",
   "mimetype": "text/x-python",
   "name": "python",
   "nbconvert_exporter": "python",
   "pygments_lexer": "ipython3",
   "version": "3.11.6"
  }
 },
 "nbformat": 4,
 "nbformat_minor": 5
}
