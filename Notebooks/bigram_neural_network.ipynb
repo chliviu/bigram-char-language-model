{
 "cells": [
  {
   "cell_type": "code",
   "execution_count": 1,
   "id": "8a533b09-69e3-445f-ac01-8b43929f82d4",
   "metadata": {},
   "outputs": [],
   "source": [
    "import torch\n",
    "import matplotlib.pyplot as plt\n",
    "%matplotlib inline"
   ]
  },
  {
   "cell_type": "code",
   "execution_count": 2,
   "id": "02cb4e02-0352-4c79-b5ed-99eeadb4d92b",
   "metadata": {},
   "outputs": [],
   "source": [
    "words = open(\"rocities.txt\", \"r\").read().splitlines()"
   ]
  },
  {
   "cell_type": "code",
   "execution_count": 3,
   "id": "4e6c3114-61f0-4c6b-bd71-a699c27c4a14",
   "metadata": {},
   "outputs": [],
   "source": [
    "chars = sorted(list(set(''.join(words))))\n",
    "count_chars = len(chars)\n",
    "stoi = {s: i + 1 for i,s in enumerate(chars)}\n",
    "stoi['*'] = 0\n",
    "itos = {i: s for s,i in stoi.items()}\n",
    "count_all_chars = len(stoi.keys())"
   ]
  },
  {
   "cell_type": "code",
   "execution_count": 4,
   "id": "80b2ab67-df41-4171-890e-350bc83761f9",
   "metadata": {},
   "outputs": [],
   "source": [
    "# creating the training set"
   ]
  },
  {
   "cell_type": "code",
   "execution_count": 5,
   "id": "5af24f8b-adaa-44ac-842e-01a2e28bad04",
   "metadata": {},
   "outputs": [],
   "source": [
    "inputs = []\n",
    "targets = []"
   ]
  },
  {
   "cell_type": "code",
   "execution_count": 6,
   "id": "ca54323e-9c70-42fb-b955-87f1e962f480",
   "metadata": {},
   "outputs": [],
   "source": [
    "for word in words[:1]:\n",
    "    word = ['*'] + list(word) + ['*']\n",
    "    for ch1, ch2 in zip(word,word[1:]):\n",
    "        r = stoi[ch1]\n",
    "        c = stoi[ch2]\n",
    "        inputs.append(r)\n",
    "        targets.append(c)"
   ]
  },
  {
   "cell_type": "code",
   "execution_count": 7,
   "id": "b8366ac9-15e5-4b22-9fca-0fc1503b22f1",
   "metadata": {},
   "outputs": [
    {
     "data": {
      "text/plain": [
       "(tensor([ 0,  4,  1, 10, 11,  9, 11, 19,  8, 23, 15, 11]),\n",
       " tensor([ 4,  1, 10, 11,  9, 11, 19,  8, 23, 15, 11,  0]))"
      ]
     },
     "execution_count": 7,
     "metadata": {},
     "output_type": "execute_result"
    }
   ],
   "source": [
    "inputs = torch.tensor(inputs)\n",
    "targets = torch.tensor(targets)\n",
    "inputs, targets"
   ]
  },
  {
   "cell_type": "code",
   "execution_count": 19,
   "id": "3de77f9d-9ab4-4f0f-bb8f-63fb8eb4f5f3",
   "metadata": {},
   "outputs": [
    {
     "name": "stdout",
     "output_type": "stream",
     "text": [
      "torch.Size([12, 31])\n"
     ]
    }
   ],
   "source": [
    "import torch.nn.functional as F\n",
    "# one-hot encode the int tensors\n",
    "xenc = F.one_hot(inputs, num_classes=count_all_chars)\n",
    "print(xenc.shape)"
   ]
  },
  {
   "cell_type": "code",
   "execution_count": 13,
   "id": "aee09fed-8a2e-4b7d-b649-bcd339b8b02f",
   "metadata": {},
   "outputs": [
    {
     "data": {
      "text/plain": [
       "<matplotlib.image.AxesImage at 0x7f832ceab810>"
      ]
     },
     "execution_count": 13,
     "metadata": {},
     "output_type": "execute_result"
    },
    {
     "data": {
      "image/png": "[encoded data removed]",
      "text/plain": [
       "<Figure size 640x480 with 1 Axes>"
      ]
     },
     "metadata": {},
     "output_type": "display_data"
    }
   ],
   "source": [
    "plt.imshow(xenc)"
   ]
  },
  {
   "cell_type": "code",
   "execution_count": 20,
   "id": "efc3529f-8b1d-435d-bd26-cac5e3cc0519",
   "metadata": {},
   "outputs": [
    {
     "name": "stdout",
     "output_type": "stream",
     "text": [
      "torch.int64\n",
      "torch.float32\n"
     ]
    }
   ],
   "source": [
    "print(xenc.dtype)\n",
    "# for nn we need float\n",
    "xenc = xenc.float()\n",
    "print(xenc.dtype)"
   ]
  },
  {
   "cell_type": "code",
   "execution_count": null,
   "id": "802e22cc-ea75-483f-b031-92df799da062",
   "metadata": {},
   "outputs": [],
   "source": []
  }
 ],
 "metadata": {
  "kernelspec": {
   "display_name": "Python 3 (ipykernel)",
   "language": "python",
   "name": "python3"
  },
  "language_info": {
   "codemirror_mode": {
    "name": "ipython",
    "version": 3
   },
   "file_extension": ".py",
   "mimetype": "text/x-python",
   "name": "python",
   "nbconvert_exporter": "python",
   "pygments_lexer": "ipython3",
   "version": "3.11.6"
  }
 },
 "nbformat": 4,
 "nbformat_minor": 5
}
